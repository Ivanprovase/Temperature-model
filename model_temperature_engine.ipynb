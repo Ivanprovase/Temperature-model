{
  "nbformat": 4,
  "nbformat_minor": 0,
  "metadata": {
    "colab": {
      "name": "model_temperature_engine.ipynb",
      "provenance": [],
      "collapsed_sections": []
    },
    "kernelspec": {
      "name": "python3",
      "display_name": "Python 3"
    }
  },
  "cells": [
    {
      "cell_type": "markdown",
      "metadata": {
        "id": "r0lmtJRxgmqb"
      },
      "source": [
        "# CNN and RNN for engine temperature modelling"
      ]
    },
    {
      "cell_type": "markdown",
      "metadata": {
        "id": "rx9cXJL9gujc"
      },
      "source": [
        "Let's import the needed packages :"
      ]
    },
    {
      "cell_type": "code",
      "metadata": {
        "id": "UZaD47U9gYbz"
      },
      "source": [
        "import pandas as pd # for data storage\r\n",
        "import tensorflow as tf # for deep learning model creation\r\n",
        "import matplotlib.pyplot as plt # to plot the evolution of the training metrics\r\n",
        "import numpy as np"
      ],
      "execution_count": null,
      "outputs": []
    },
    {
      "cell_type": "markdown",
      "metadata": {
        "id": "i1zz19qaijpp"
      },
      "source": [
        "## Import the data from txt files"
      ]
    },
    {
      "cell_type": "markdown",
      "metadata": {
        "id": "RiEclJz-jbSm"
      },
      "source": [
        "Our data are available on txt files. We can import them easily using Pandas :"
      ]
    },
    {
      "cell_type": "code",
      "metadata": {
        "id": "0BIhogl5ioVh"
      },
      "source": [
        "x_1 = pd.read_csv('train_example_x_resample_1hz.txt', sep=\",\", header=None)\r\n",
        "y_1 = pd.read_csv('train_example_y_resample_1hz.txt', sep=\",\", header=None)"
      ],
      "execution_count": null,
      "outputs": []
    },
    {
      "cell_type": "markdown",
      "metadata": {
        "id": "Byn7moprjkfH"
      },
      "source": [
        "Let's check what they look like :"
      ]
    },
    {
      "cell_type": "code",
      "metadata": {
        "colab": {
          "base_uri": "https://localhost:8080/",
          "height": 202
        },
        "id": "znYNgrNZjofg",
        "outputId": "1f252870-2af2-45f2-966d-717d66723ec4"
      },
      "source": [
        "x_1.head()"
      ],
      "execution_count": null,
      "outputs": [
        {
          "output_type": "execute_result",
          "data": {
            "text/html": [
              "<div>\n",
              "<style scoped>\n",
              "    .dataframe tbody tr th:only-of-type {\n",
              "        vertical-align: middle;\n",
              "    }\n",
              "\n",
              "    .dataframe tbody tr th {\n",
              "        vertical-align: top;\n",
              "    }\n",
              "\n",
              "    .dataframe thead th {\n",
              "        text-align: right;\n",
              "    }\n",
              "</style>\n",
              "<table border=\"1\" class=\"dataframe\">\n",
              "  <thead>\n",
              "    <tr style=\"text-align: right;\">\n",
              "      <th></th>\n",
              "      <th>0</th>\n",
              "      <th>1</th>\n",
              "      <th>2</th>\n",
              "      <th>3</th>\n",
              "      <th>4</th>\n",
              "      <th>5</th>\n",
              "      <th>6</th>\n",
              "      <th>7</th>\n",
              "    </tr>\n",
              "  </thead>\n",
              "  <tbody>\n",
              "    <tr>\n",
              "      <th>0</th>\n",
              "      <td>0.0</td>\n",
              "      <td>1208</td>\n",
              "      <td>0</td>\n",
              "      <td>311.29</td>\n",
              "      <td>0</td>\n",
              "      <td>0</td>\n",
              "      <td>0</td>\n",
              "      <td>-12.75</td>\n",
              "    </tr>\n",
              "    <tr>\n",
              "      <th>1</th>\n",
              "      <td>0.0</td>\n",
              "      <td>1208</td>\n",
              "      <td>0</td>\n",
              "      <td>311.20</td>\n",
              "      <td>0</td>\n",
              "      <td>0</td>\n",
              "      <td>0</td>\n",
              "      <td>-12.75</td>\n",
              "    </tr>\n",
              "    <tr>\n",
              "      <th>2</th>\n",
              "      <td>0.0</td>\n",
              "      <td>1208</td>\n",
              "      <td>0</td>\n",
              "      <td>311.20</td>\n",
              "      <td>0</td>\n",
              "      <td>0</td>\n",
              "      <td>0</td>\n",
              "      <td>-12.75</td>\n",
              "    </tr>\n",
              "    <tr>\n",
              "      <th>3</th>\n",
              "      <td>0.0</td>\n",
              "      <td>1208</td>\n",
              "      <td>0</td>\n",
              "      <td>311.29</td>\n",
              "      <td>0</td>\n",
              "      <td>0</td>\n",
              "      <td>0</td>\n",
              "      <td>-12.75</td>\n",
              "    </tr>\n",
              "    <tr>\n",
              "      <th>4</th>\n",
              "      <td>0.0</td>\n",
              "      <td>1208</td>\n",
              "      <td>0</td>\n",
              "      <td>311.29</td>\n",
              "      <td>0</td>\n",
              "      <td>0</td>\n",
              "      <td>0</td>\n",
              "      <td>-12.75</td>\n",
              "    </tr>\n",
              "  </tbody>\n",
              "</table>\n",
              "</div>"
            ],
            "text/plain": [
              "     0     1  2       3  4  5  6      7\n",
              "0  0.0  1208  0  311.29  0  0  0 -12.75\n",
              "1  0.0  1208  0  311.20  0  0  0 -12.75\n",
              "2  0.0  1208  0  311.20  0  0  0 -12.75\n",
              "3  0.0  1208  0  311.29  0  0  0 -12.75\n",
              "4  0.0  1208  0  311.29  0  0  0 -12.75"
            ]
          },
          "metadata": {
            "tags": []
          },
          "execution_count": 3
        }
      ]
    },
    {
      "cell_type": "code",
      "metadata": {
        "colab": {
          "base_uri": "https://localhost:8080/",
          "height": 202
        },
        "id": "86eO4iK3yHqk",
        "outputId": "a83c528e-9353-423b-f471-53ab52be0f01"
      },
      "source": [
        "y_1.head()"
      ],
      "execution_count": null,
      "outputs": [
        {
          "output_type": "execute_result",
          "data": {
            "text/html": [
              "<div>\n",
              "<style scoped>\n",
              "    .dataframe tbody tr th:only-of-type {\n",
              "        vertical-align: middle;\n",
              "    }\n",
              "\n",
              "    .dataframe tbody tr th {\n",
              "        vertical-align: top;\n",
              "    }\n",
              "\n",
              "    .dataframe thead th {\n",
              "        text-align: right;\n",
              "    }\n",
              "</style>\n",
              "<table border=\"1\" class=\"dataframe\">\n",
              "  <thead>\n",
              "    <tr style=\"text-align: right;\">\n",
              "      <th></th>\n",
              "      <th>0</th>\n",
              "    </tr>\n",
              "  </thead>\n",
              "  <tbody>\n",
              "    <tr>\n",
              "      <th>0</th>\n",
              "      <td>-9.75</td>\n",
              "    </tr>\n",
              "    <tr>\n",
              "      <th>1</th>\n",
              "      <td>-9.75</td>\n",
              "    </tr>\n",
              "    <tr>\n",
              "      <th>2</th>\n",
              "      <td>-9.75</td>\n",
              "    </tr>\n",
              "    <tr>\n",
              "      <th>3</th>\n",
              "      <td>-9.75</td>\n",
              "    </tr>\n",
              "    <tr>\n",
              "      <th>4</th>\n",
              "      <td>-9.75</td>\n",
              "    </tr>\n",
              "  </tbody>\n",
              "</table>\n",
              "</div>"
            ],
            "text/plain": [
              "      0\n",
              "0 -9.75\n",
              "1 -9.75\n",
              "2 -9.75\n",
              "3 -9.75\n",
              "4 -9.75"
            ]
          },
          "metadata": {
            "tags": []
          },
          "execution_count": 4
        }
      ]
    },
    {
      "cell_type": "markdown",
      "metadata": {
        "id": "l2VSs_8zyRww"
      },
      "source": [
        "We can also check the sizes of the data :"
      ]
    },
    {
      "cell_type": "code",
      "metadata": {
        "colab": {
          "base_uri": "https://localhost:8080/"
        },
        "id": "ySy5gSr8yQqV",
        "outputId": "9d71d8a0-3464-4be0-93cb-777388ada47d"
      },
      "source": [
        "print(x_1.shape)\r\n",
        "print(y_1.shape)"
      ],
      "execution_count": null,
      "outputs": [
        {
          "output_type": "stream",
          "text": [
            "(300, 8)\n",
            "(300, 1)\n"
          ],
          "name": "stdout"
        }
      ]
    },
    {
      "cell_type": "code",
      "metadata": {
        "id": "8ir50YZzBKo2"
      },
      "source": [
        "x_1 = x_1.to_numpy()"
      ],
      "execution_count": null,
      "outputs": []
    },
    {
      "cell_type": "code",
      "metadata": {
        "id": "ijlSakmGBtZR"
      },
      "source": [
        "y_1 = y_1.to_numpy()"
      ],
      "execution_count": null,
      "outputs": []
    },
    {
      "cell_type": "code",
      "metadata": {
        "colab": {
          "base_uri": "https://localhost:8080/"
        },
        "id": "_aLW88P0Bgx0",
        "outputId": "90bc5dfa-8115-4cea-e82a-00277623146d"
      },
      "source": [
        "x_1.shape"
      ],
      "execution_count": null,
      "outputs": [
        {
          "output_type": "execute_result",
          "data": {
            "text/plain": [
              "(300, 8)"
            ]
          },
          "metadata": {
            "tags": []
          },
          "execution_count": 8
        }
      ]
    },
    {
      "cell_type": "code",
      "metadata": {
        "colab": {
          "base_uri": "https://localhost:8080/"
        },
        "id": "vDlcYQiABwoH",
        "outputId": "a98c5e70-1c6f-4f11-f28f-36382d402a53"
      },
      "source": [
        "y_1.shape"
      ],
      "execution_count": null,
      "outputs": [
        {
          "output_type": "execute_result",
          "data": {
            "text/plain": [
              "(300, 1)"
            ]
          },
          "metadata": {
            "tags": []
          },
          "execution_count": 9
        }
      ]
    },
    {
      "cell_type": "markdown",
      "metadata": {
        "id": "Uk9qybAljz-1"
      },
      "source": [
        "Now we imported the dataset, we can build our models."
      ]
    },
    {
      "cell_type": "markdown",
      "metadata": {
        "id": "GT9zcuGFLfSq"
      },
      "source": [
        "FAKE DATASET, ONLY TO CHECK IF MODELS START TRAINING"
      ]
    },
    {
      "cell_type": "code",
      "metadata": {
        "id": "gbPjQPsbNN12"
      },
      "source": [
        "x = np.array([x_1, x_1, x_1, x_1, x_1])\r\n",
        "y = np.array([y_1, y_1, y_1, y_1, y_1])"
      ],
      "execution_count": null,
      "outputs": []
    },
    {
      "cell_type": "code",
      "metadata": {
        "colab": {
          "base_uri": "https://localhost:8080/"
        },
        "id": "FyPfu0E1O3Vz",
        "outputId": "e31e4495-5739-4472-df53-7b0c4c43381f"
      },
      "source": [
        "x.shape"
      ],
      "execution_count": null,
      "outputs": [
        {
          "output_type": "execute_result",
          "data": {
            "text/plain": [
              "(5, 300, 8)"
            ]
          },
          "metadata": {
            "tags": []
          },
          "execution_count": 11
        }
      ]
    },
    {
      "cell_type": "markdown",
      "metadata": {
        "id": "mfK8GWw9iouT"
      },
      "source": [
        "## Creation of the CNN model"
      ]
    },
    {
      "cell_type": "markdown",
      "metadata": {
        "id": "3HFXr0p3JJen"
      },
      "source": [
        "N.B. : We can ajust filtres and pool_size"
      ]
    },
    {
      "cell_type": "code",
      "metadata": {
        "id": "A_gFtMueiQY6"
      },
      "source": [
        "model = tf.keras.models.Sequential() # First we have to create model"
      ],
      "execution_count": null,
      "outputs": []
    },
    {
      "cell_type": "markdown",
      "metadata": {
        "id": "SEz_QxE5qXRm"
      },
      "source": [
        "We start we two convolutional layers :\r\n"
      ]
    },
    {
      "cell_type": "code",
      "metadata": {
        "id": "GnD1qXUwqS9O"
      },
      "source": [
        "model.add(tf.keras.layers.Conv1D(64, kernel_size=3,\r\n",
        "                 activation='relu',\r\n",
        "                 input_shape=(300, 8)))\r\n",
        "\r\n",
        "model.add(tf.keras.layers.Conv1D(64, \r\n",
        "                 kernel_size=3, \r\n",
        "                 activation='relu'))"
      ],
      "execution_count": null,
      "outputs": []
    },
    {
      "cell_type": "markdown",
      "metadata": {
        "id": "GiRi_oifsNDF"
      },
      "source": [
        "We add a pooling layer :"
      ]
    },
    {
      "cell_type": "code",
      "metadata": {
        "id": "8NSvInU8sPmg"
      },
      "source": [
        "model.add(tf.keras.layers.MaxPooling1D(pool_size=2))"
      ],
      "execution_count": null,
      "outputs": []
    },
    {
      "cell_type": "markdown",
      "metadata": {
        "id": "ermfDarXqiQr"
      },
      "source": [
        "We can add a Dropout to prevent our model from overfitting, but it may not be necessary, we will see it while training the model. For now let's keep it as a comment."
      ]
    },
    {
      "cell_type": "code",
      "metadata": {
        "id": "VnSNZxWJq9Ip"
      },
      "source": [
        "# model.add(tf.keras.layers.Dropout(0.2))"
      ],
      "execution_count": null,
      "outputs": []
    },
    {
      "cell_type": "markdown",
      "metadata": {
        "id": "NGe36H-OwPh_"
      },
      "source": [
        "After the pooling we need to flattent the data :"
      ]
    },
    {
      "cell_type": "code",
      "metadata": {
        "id": "TQ0xrfBJrw8H"
      },
      "source": [
        "model.add(tf.keras.layers.Flatten())"
      ],
      "execution_count": null,
      "outputs": []
    },
    {
      "cell_type": "markdown",
      "metadata": {
        "id": "LbpBZ_EGqbfP"
      },
      "source": [
        "Now we add 3 fully connected layers. This parameter can be optimized, you can try Bayesian optimisation (SMBO) or gridsearch."
      ]
    },
    {
      "cell_type": "code",
      "metadata": {
        "id": "RRcTP_GuqU9J"
      },
      "source": [
        "model.add(tf.keras.layers.Dense(64, activation='relu'))\r\n",
        "model.add(tf.keras.layers.Dense(128, activation='relu'))\r\n",
        "model.add(tf.keras.layers.Dense(64, activation='relu'))"
      ],
      "execution_count": null,
      "outputs": []
    },
    {
      "cell_type": "markdown",
      "metadata": {
        "id": "mQJOlKVQt_sd"
      },
      "source": [
        "Let's now create the output layer :"
      ]
    },
    {
      "cell_type": "code",
      "metadata": {
        "id": "MjRFYMFnuDrT"
      },
      "source": [
        "model.add(tf.keras.layers.Dense(300, activation='sigmoid'))"
      ],
      "execution_count": null,
      "outputs": []
    },
    {
      "cell_type": "markdown",
      "metadata": {
        "id": "anUZm2fqBkx7"
      },
      "source": [
        "Wa can print a summary of our model :"
      ]
    },
    {
      "cell_type": "code",
      "metadata": {
        "colab": {
          "base_uri": "https://localhost:8080/"
        },
        "id": "ypTkWJ1bBpTF",
        "outputId": "a88932cc-33cf-4c35-8d62-9abd10b51c81"
      },
      "source": [
        "model.summary()"
      ],
      "execution_count": null,
      "outputs": [
        {
          "output_type": "stream",
          "text": [
            "Model: \"sequential\"\n",
            "_________________________________________________________________\n",
            "Layer (type)                 Output Shape              Param #   \n",
            "=================================================================\n",
            "conv1d (Conv1D)              (None, 298, 64)           1600      \n",
            "_________________________________________________________________\n",
            "conv1d_1 (Conv1D)            (None, 296, 64)           12352     \n",
            "_________________________________________________________________\n",
            "max_pooling1d (MaxPooling1D) (None, 148, 64)           0         \n",
            "_________________________________________________________________\n",
            "flatten (Flatten)            (None, 9472)              0         \n",
            "_________________________________________________________________\n",
            "dense (Dense)                (None, 64)                606272    \n",
            "_________________________________________________________________\n",
            "dense_1 (Dense)              (None, 128)               8320      \n",
            "_________________________________________________________________\n",
            "dense_2 (Dense)              (None, 64)                8256      \n",
            "_________________________________________________________________\n",
            "dense_3 (Dense)              (None, 300)               19500     \n",
            "=================================================================\n",
            "Total params: 656,300\n",
            "Trainable params: 656,300\n",
            "Non-trainable params: 0\n",
            "_________________________________________________________________\n"
          ],
          "name": "stdout"
        }
      ]
    },
    {
      "cell_type": "markdown",
      "metadata": {
        "id": "g4DCNjJZB2jl"
      },
      "source": [
        "We have to compile the model :"
      ]
    },
    {
      "cell_type": "code",
      "metadata": {
        "id": "eG9C34mwCDo2"
      },
      "source": [
        "model.compile(\r\n",
        "    loss=\"mean_squared_error\",\r\n",
        "    optimizer=\"adam\",\r\n",
        "    metrics=[\"mse\"]\r\n",
        ")"
      ],
      "execution_count": null,
      "outputs": []
    },
    {
      "cell_type": "markdown",
      "metadata": {
        "id": "YwLc7YMuCiJK"
      },
      "source": [
        "And now we can fit it."
      ]
    },
    {
      "cell_type": "code",
      "metadata": {
        "colab": {
          "base_uri": "https://localhost:8080/"
        },
        "id": "kKnMujh5ChU6",
        "outputId": "18e50bbc-323b-4ecf-d35e-30cc2ee15bde"
      },
      "source": [
        "history = model.fit(x, y, epochs=10, validation_split=0.2)"
      ],
      "execution_count": null,
      "outputs": [
        {
          "output_type": "stream",
          "text": [
            "Epoch 1/10\n",
            "1/1 [==============================] - 1s 1s/step - loss: 70.5816 - mse: 70.5816 - val_loss: 71.3190 - val_mse: 71.3190\n",
            "Epoch 2/10\n",
            "1/1 [==============================] - 0s 49ms/step - loss: 71.3190 - mse: 71.3190 - val_loss: 70.9029 - val_mse: 70.9029\n",
            "Epoch 3/10\n",
            "1/1 [==============================] - 0s 53ms/step - loss: 70.9028 - mse: 70.9028 - val_loss: 70.5039 - val_mse: 70.5039\n",
            "Epoch 4/10\n",
            "1/1 [==============================] - 0s 50ms/step - loss: 70.5039 - mse: 70.5039 - val_loss: 70.2594 - val_mse: 70.2594\n",
            "Epoch 5/10\n",
            "1/1 [==============================] - 0s 54ms/step - loss: 70.2594 - mse: 70.2594 - val_loss: 70.3056 - val_mse: 70.3056\n",
            "Epoch 6/10\n",
            "1/1 [==============================] - 0s 47ms/step - loss: 70.3056 - mse: 70.3056 - val_loss: 70.1228 - val_mse: 70.1228\n",
            "Epoch 7/10\n",
            "1/1 [==============================] - 0s 51ms/step - loss: 70.1228 - mse: 70.1228 - val_loss: 70.1077 - val_mse: 70.1077\n",
            "Epoch 8/10\n",
            "1/1 [==============================] - 0s 52ms/step - loss: 70.1077 - mse: 70.1077 - val_loss: 70.1208 - val_mse: 70.1208\n",
            "Epoch 9/10\n",
            "1/1 [==============================] - 0s 54ms/step - loss: 70.1208 - mse: 70.1208 - val_loss: 70.0350 - val_mse: 70.0350\n",
            "Epoch 10/10\n",
            "1/1 [==============================] - 0s 50ms/step - loss: 70.0350 - mse: 70.0350 - val_loss: 69.8919 - val_mse: 69.8919\n"
          ],
          "name": "stdout"
        }
      ]
    },
    {
      "cell_type": "markdown",
      "metadata": {
        "id": "Mozpw7A_KY0i"
      },
      "source": [
        "Once the training is over, you can check the model's performances :"
      ]
    },
    {
      "cell_type": "code",
      "metadata": {
        "colab": {
          "base_uri": "https://localhost:8080/",
          "height": 545
        },
        "id": "ffBI4CsqKe7E",
        "outputId": "92568ca1-2b4a-45f5-ef31-f184b79ac9bc"
      },
      "source": [
        "loss_curve = history.history[\"loss\"]\r\n",
        "acc_curve = history.history[\"mse\"]\r\n",
        "\r\n",
        "loss_val_curve = history.history[\"val_loss\"]\r\n",
        "acc_val_curve = history.history[\"val_mse\"]\r\n",
        "\r\n",
        "plt.plot(loss_curve, label=\"Train\")\r\n",
        "plt.plot(loss_val_curve, label=\"Val\")\r\n",
        "plt.legend(loc='upper left')\r\n",
        "plt.title(\"Loss\")\r\n",
        "plt.show()\r\n",
        "\r\n",
        "plt.plot(acc_curve, label=\"Train\")\r\n",
        "plt.plot(acc_val_curve, label=\"Val\")\r\n",
        "plt.legend(loc='upper left')\r\n",
        "plt.title(\"mse\")\r\n",
        "plt.show()"
      ],
      "execution_count": null,
      "outputs": [
        {
          "output_type": "display_data",
          "data": {
            "image/png": "[encoded data removed]",
            "text/plain": [
              "<Figure size 432x288 with 1 Axes>"
            ]
          },
          "metadata": {
            "tags": [],
            "needs_background": "light"
          }
        },
        {
          "output_type": "display_data",
          "data": {
            "image/png": "[encoded data removed]",
            "text/plain": [
              "<Figure size 432x288 with 1 Axes>"
            ]
          },
          "metadata": {
            "tags": [],
            "needs_background": "light"
          }
        }
      ]
    },
    {
      "cell_type": "markdown",
      "metadata": {
        "id": "BhauMsm0isYZ"
      },
      "source": [
        "## Creation of the RNN model"
      ]
    },
    {
      "cell_type": "markdown",
      "metadata": {
        "id": "rHm6dVmpXKZ0"
      },
      "source": [
        "First we reshape x_1 :"
      ]
    },
    {
      "cell_type": "code",
      "metadata": {
        "id": "dbPjw_q6U_TE"
      },
      "source": [
        "x_lstm = x_1.reshape((1, 300, 8))"
      ],
      "execution_count": null,
      "outputs": []
    },
    {
      "cell_type": "code",
      "metadata": {
        "colab": {
          "base_uri": "https://localhost:8080/"
        },
        "id": "o_tIpl4jVTeb",
        "outputId": "dd7f43eb-2a82-4fad-fa67-666f33babc6f"
      },
      "source": [
        "x_lstm.shape"
      ],
      "execution_count": null,
      "outputs": [
        {
          "output_type": "execute_result",
          "data": {
            "text/plain": [
              "(1, 300, 8)"
            ]
          },
          "metadata": {
            "tags": []
          },
          "execution_count": 24
        }
      ]
    },
    {
      "cell_type": "markdown",
      "metadata": {
        "id": "HIs2xh3-XOiK"
      },
      "source": [
        "Let's build the architecture of the model :"
      ]
    },
    {
      "cell_type": "code",
      "metadata": {
        "id": "cIVLo8J_VUx7"
      },
      "source": [
        "model_lstm = tf.keras.models.Sequential()\r\n",
        "\r\n",
        "model_lstm.add(tf.keras.layers.LSTM(32, input_shape=(300, 8)))\r\n",
        "# model.add(tf.keras.layers.Dropout(0.2))\r\n",
        "model_lstm.add(tf.keras.layers.Dense(64, activation='relu'))\r\n",
        "model_lstm.add(tf.keras.layers.Dense(300, activation='sigmoid'))"
      ],
      "execution_count": null,
      "outputs": []
    },
    {
      "cell_type": "markdown",
      "metadata": {
        "id": "3sO-m-qHYL_7"
      },
      "source": [
        "We can compile the model now :"
      ]
    },
    {
      "cell_type": "code",
      "metadata": {
        "id": "RZq0GVAsYSzB"
      },
      "source": [
        "model_lstm.compile(\r\n",
        "    loss=\"mean_squared_error\",\r\n",
        "    optimizer=\"adam\",\r\n",
        "    metrics=[\"mse\"]\r\n",
        ")"
      ],
      "execution_count": null,
      "outputs": []
    },
    {
      "cell_type": "markdown",
      "metadata": {
        "id": "OXBEjmXrYWpx"
      },
      "source": [
        "And finally we can fit x and y :"
      ]
    },
    {
      "cell_type": "code",
      "metadata": {
        "colab": {
          "base_uri": "https://localhost:8080/"
        },
        "id": "MOyly96BYZdf",
        "outputId": "d1f2df7e-af69-4d7c-94cc-019359164efc"
      },
      "source": [
        "history = model_lstm.fit(x, y, epochs=10, validation_split=0.2)"
      ],
      "execution_count": null,
      "outputs": [
        {
          "output_type": "stream",
          "text": [
            "Epoch 1/10\n",
            "1/1 [==============================] - 2s 2s/step - loss: 70.2858 - mse: 70.2858 - val_loss: 70.2310 - val_mse: 70.2310\n",
            "Epoch 2/10\n",
            "1/1 [==============================] - 0s 118ms/step - loss: 70.2310 - mse: 70.2310 - val_loss: 70.1855 - val_mse: 70.1855\n",
            "Epoch 3/10\n",
            "1/1 [==============================] - 0s 126ms/step - loss: 70.1855 - mse: 70.1855 - val_loss: 70.1406 - val_mse: 70.1406\n",
            "Epoch 4/10\n",
            "1/1 [==============================] - 0s 132ms/step - loss: 70.1406 - mse: 70.1406 - val_loss: 70.0951 - val_mse: 70.0951\n",
            "Epoch 5/10\n",
            "1/1 [==============================] - 0s 133ms/step - loss: 70.0951 - mse: 70.0951 - val_loss: 70.0488 - val_mse: 70.0488\n",
            "Epoch 6/10\n",
            "1/1 [==============================] - 0s 122ms/step - loss: 70.0488 - mse: 70.0488 - val_loss: 70.0014 - val_mse: 70.0014\n",
            "Epoch 7/10\n",
            "1/1 [==============================] - 0s 120ms/step - loss: 70.0014 - mse: 70.0014 - val_loss: 69.9528 - val_mse: 69.9528\n",
            "Epoch 8/10\n",
            "1/1 [==============================] - 0s 123ms/step - loss: 69.9528 - mse: 69.9528 - val_loss: 69.9027 - val_mse: 69.9027\n",
            "Epoch 9/10\n",
            "1/1 [==============================] - 0s 123ms/step - loss: 69.9027 - mse: 69.9027 - val_loss: 69.8509 - val_mse: 69.8509\n",
            "Epoch 10/10\n",
            "1/1 [==============================] - 0s 131ms/step - loss: 69.8509 - mse: 69.8509 - val_loss: 69.7971 - val_mse: 69.7971\n"
          ],
          "name": "stdout"
        }
      ]
    },
    {
      "cell_type": "markdown",
      "metadata": {
        "id": "h0PgSHC6YhCV"
      },
      "source": [
        "Let's take a look at our model performances :"
      ]
    },
    {
      "cell_type": "code",
      "metadata": {
        "colab": {
          "base_uri": "https://localhost:8080/",
          "height": 545
        },
        "id": "oycREgFWYmAN",
        "outputId": "e8655335-a20a-4d2f-a78c-56d1ca45c7fa"
      },
      "source": [
        "loss_curve = history.history[\"loss\"]\r\n",
        "acc_curve = history.history[\"mse\"]\r\n",
        "\r\n",
        "loss_val_curve = history.history[\"val_loss\"]\r\n",
        "acc_val_curve = history.history[\"val_mse\"]\r\n",
        "\r\n",
        "plt.plot(loss_curve, label=\"Train\")\r\n",
        "plt.plot(loss_val_curve, label=\"Val\")\r\n",
        "plt.legend(loc='upper left')\r\n",
        "plt.title(\"Loss\")\r\n",
        "plt.show()\r\n",
        "\r\n",
        "plt.plot(acc_curve, label=\"Train\")\r\n",
        "plt.plot(acc_val_curve, label=\"Val\")\r\n",
        "plt.legend(loc='upper left')\r\n",
        "plt.title(\"mse\")\r\n",
        "plt.show()"
      ],
      "execution_count": null,
      "outputs": [
        {
          "output_type": "display_data",
          "data": {
            "image/png": "[encoded data removed]",
            "text/plain": [
              "<Figure size 432x288 with 1 Axes>"
            ]
          },
          "metadata": {
            "tags": [],
            "needs_background": "light"
          }
        },
        {
          "output_type": "display_data",
          "data": {
            "image/png": "[encoded data removed]",
            "text/plain": [
              "<Figure size 432x288 with 1 Axes>"
            ]
          },
          "metadata": {
            "tags": [],
            "needs_background": "light"
          }
        }
      ]
    },
    {
      "cell_type": "code",
      "metadata": {
        "id": "P4JM1cUpYtEj"
      },
      "source": [
        ""
      ],
      "execution_count": null,
      "outputs": []
    }
  ]
}